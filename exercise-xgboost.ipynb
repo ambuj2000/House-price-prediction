{
 "cells": [
  {
   "cell_type": "markdown",
   "id": "936be606",
   "metadata": {
    "papermill": {
     "duration": 0.017098,
     "end_time": "2021-08-19T20:19:14.312895",
     "exception": false,
     "start_time": "2021-08-19T20:19:14.295797",
     "status": "completed"
    },
    "tags": []
   },
   "source": [
    "**This notebook is an exercise in the [Intermediate Machine Learning](https://www.kaggle.com/learn/intermediate-machine-learning) course.  You can reference the tutorial at [this link](https://www.kaggle.com/alexisbcook/xgboost).**\n",
    "\n",
    "---\n"
   ]
  },
  {
   "cell_type": "markdown",
   "id": "527f21b7",
   "metadata": {
    "papermill": {
     "duration": 0.014939,
     "end_time": "2021-08-19T20:19:14.343952",
     "exception": false,
     "start_time": "2021-08-19T20:19:14.329013",
     "status": "completed"
    },
    "tags": []
   },
   "source": [
    "In this exercise, you will use your new knowledge to train a model with **gradient boosting**.\n",
    "\n",
    "# Setup\n",
    "\n",
    "The questions below will give you feedback on your work. Run the following cell to set up the feedback system."
   ]
  },
  {
   "cell_type": "code",
   "execution_count": 1,
   "id": "d71e8185",
   "metadata": {
    "execution": {
     "iopub.execute_input": "2021-08-19T20:19:14.387439Z",
     "iopub.status.busy": "2021-08-19T20:19:14.386772Z",
     "iopub.status.idle": "2021-08-19T20:19:16.487402Z",
     "shell.execute_reply": "2021-08-19T20:19:16.488427Z",
     "shell.execute_reply.started": "2021-08-19T20:06:58.288613Z"
    },
    "papermill": {
     "duration": 2.129626,
     "end_time": "2021-08-19T20:19:16.488977",
     "exception": false,
     "start_time": "2021-08-19T20:19:14.359351",
     "status": "completed"
    },
    "tags": []
   },
   "outputs": [
    {
     "name": "stdout",
     "output_type": "stream",
     "text": [
      "Setup Complete\n"
     ]
    }
   ],
   "source": [
    "# Set up code checking\n",
    "import os\n",
    "if not os.path.exists(\"../input/train.csv\"):\n",
    "    os.symlink(\"../input/home-data-for-ml-course/train.csv\", \"../input/train.csv\")  \n",
    "    os.symlink(\"../input/home-data-for-ml-course/test.csv\", \"../input/test.csv\") \n",
    "from learntools.core import binder\n",
    "binder.bind(globals())\n",
    "from learntools.ml_intermediate.ex6 import *\n",
    "print(\"Setup Complete\")"
   ]
  },
  {
   "cell_type": "markdown",
   "id": "98ade717",
   "metadata": {
    "papermill": {
     "duration": 0.015941,
     "end_time": "2021-08-19T20:19:16.522954",
     "exception": false,
     "start_time": "2021-08-19T20:19:16.507013",
     "status": "completed"
    },
    "tags": []
   },
   "source": [
    "You will work with the [Housing Prices Competition for Kaggle Learn Users](https://www.kaggle.com/c/home-data-for-ml-course) dataset from the previous exercise. \n",
    "\n",
    "![Ames Housing dataset image](https://i.imgur.com/lTJVG4e.png)\n",
    "\n",
    "Run the next code cell without changes to load the training and validation sets in `X_train`, `X_valid`, `y_train`, and `y_valid`.  The test set is loaded in `X_test`."
   ]
  },
  {
   "cell_type": "code",
   "execution_count": 2,
   "id": "f84d11df",
   "metadata": {
    "execution": {
     "iopub.execute_input": "2021-08-19T20:19:16.566386Z",
     "iopub.status.busy": "2021-08-19T20:19:16.565234Z",
     "iopub.status.idle": "2021-08-19T20:19:16.784122Z",
     "shell.execute_reply": "2021-08-19T20:19:16.783438Z",
     "shell.execute_reply.started": "2021-08-19T20:11:27.293567Z"
    },
    "papermill": {
     "duration": 0.245543,
     "end_time": "2021-08-19T20:19:16.784259",
     "exception": false,
     "start_time": "2021-08-19T20:19:16.538716",
     "status": "completed"
    },
    "tags": []
   },
   "outputs": [],
   "source": [
    "import pandas as pd\n",
    "from sklearn.model_selection import train_test_split\n",
    "\n",
    "# Read the data\n",
    "X = pd.read_csv('../input/train.csv', index_col='Id')\n",
    "X_test_full = pd.read_csv('../input/test.csv', index_col='Id')\n",
    "\n",
    "# Remove rows with missing target, separate target from predictors\n",
    "X.dropna(axis=0, subset=['SalePrice'], inplace=True)\n",
    "y = X.SalePrice              \n",
    "X.drop(['SalePrice'], axis=1, inplace=True)\n",
    "\n",
    "# Break off validation set from training data\n",
    "X_train_full, X_valid_full, y_train, y_valid = train_test_split(X, y, train_size=0.8, test_size=0.2,\n",
    "                                                                random_state=0)\n",
    "\n",
    "# \"Cardinality\" means the number of unique values in a column\n",
    "# Select categorical columns with relatively low cardinality (convenient but arbitrary)\n",
    "low_cardinality_cols = [cname for cname in X_train_full.columns if X_train_full[cname].nunique() < 10 and \n",
    "                        X_train_full[cname].dtype == \"object\"]\n",
    "\n",
    "# Select numeric columns\n",
    "numeric_cols = [cname for cname in X_train_full.columns if X_train_full[cname].dtype in ['int64', 'float64']]\n",
    "\n",
    "# Keep selected columns only\n",
    "my_cols = low_cardinality_cols + numeric_cols\n",
    "X_train = X_train_full[my_cols].copy()\n",
    "X_valid = X_valid_full[my_cols].copy()\n",
    "X_test = X_test_full[my_cols].copy()\n",
    "\n",
    "# One-hot encode the data (to shorten the code, we use pandas)\n",
    "X_train = pd.get_dummies(X_train)\n",
    "X_valid = pd.get_dummies(X_valid)\n",
    "X_test = pd.get_dummies(X_test)\n",
    "X_train, X_valid = X_train.align(X_valid, join='left', axis=1)\n",
    "X_train, X_test = X_train.align(X_test, join='left', axis=1)"
   ]
  },
  {
   "cell_type": "markdown",
   "id": "c7faf67a",
   "metadata": {
    "papermill": {
     "duration": 0.015515,
     "end_time": "2021-08-19T20:19:16.815753",
     "exception": false,
     "start_time": "2021-08-19T20:19:16.800238",
     "status": "completed"
    },
    "tags": []
   },
   "source": [
    "# Step 1: Build model\n",
    "\n",
    "### Part A\n",
    "\n",
    "In this step, you'll build and train your first model with gradient boosting.\n",
    "\n",
    "- Begin by setting `my_model_1` to an XGBoost model.  Use the [XGBRegressor](https://xgboost.readthedocs.io/en/latest/python/python_api.html#xgboost.XGBRegressor) class, and set the random seed to 0 (`random_state=0`).  **Leave all other parameters as default.**\n",
    "- Then, fit the model to the training data in `X_train` and `y_train`."
   ]
  },
  {
   "cell_type": "code",
   "execution_count": 3,
   "id": "cfbac49a",
   "metadata": {
    "execution": {
     "iopub.execute_input": "2021-08-19T20:19:16.870563Z",
     "iopub.status.busy": "2021-08-19T20:19:16.861363Z",
     "iopub.status.idle": "2021-08-19T20:19:17.613527Z",
     "shell.execute_reply": "2021-08-19T20:19:17.612714Z",
     "shell.execute_reply.started": "2021-08-19T20:11:48.624215Z"
    },
    "papermill": {
     "duration": 0.776723,
     "end_time": "2021-08-19T20:19:17.613667",
     "exception": false,
     "start_time": "2021-08-19T20:19:16.836944",
     "status": "completed"
    },
    "tags": []
   },
   "outputs": [
    {
     "data": {
      "application/javascript": [
       "parent.postMessage({\"jupyterEvent\": \"custom.exercise_interaction\", \"data\": {\"outcomeType\": 1, \"valueTowardsCompletion\": 0.5, \"interactionType\": 1, \"questionType\": 2, \"questionId\": \"1.1_Model1A\", \"learnToolsVersion\": \"0.3.4\", \"failureMessage\": \"\", \"exceptionClass\": \"\", \"trace\": \"\"}}, \"*\")"
      ],
      "text/plain": [
       "<IPython.core.display.Javascript object>"
      ]
     },
     "metadata": {},
     "output_type": "display_data"
    },
    {
     "data": {
      "text/markdown": [
       "<span style=\"color:#33cc33\">Correct</span>"
      ],
      "text/plain": [
       "Correct"
      ]
     },
     "metadata": {},
     "output_type": "display_data"
    }
   ],
   "source": [
    "from xgboost import XGBRegressor\n",
    "\n",
    "# Define the model\n",
    "my_model_1 = XGBRegressor(random_state=0)\n",
    "\n",
    "# Fit the model\n",
    "my_model_1.fit(X_train, y_train)\n",
    "\n",
    "# Check your answer\n",
    "step_1.a.check()"
   ]
  },
  {
   "cell_type": "code",
   "execution_count": 4,
   "id": "74b8897c",
   "metadata": {
    "execution": {
     "iopub.execute_input": "2021-08-19T20:19:17.652392Z",
     "iopub.status.busy": "2021-08-19T20:19:17.651718Z",
     "iopub.status.idle": "2021-08-19T20:19:17.655662Z",
     "shell.execute_reply": "2021-08-19T20:19:17.655051Z",
     "shell.execute_reply.started": "2021-08-19T20:12:00.961684Z"
    },
    "papermill": {
     "duration": 0.024735,
     "end_time": "2021-08-19T20:19:17.655791",
     "exception": false,
     "start_time": "2021-08-19T20:19:17.631056",
     "status": "completed"
    },
    "tags": []
   },
   "outputs": [],
   "source": [
    "# Lines below will give you a hint or solution code\n",
    "#step_1.a.hint()\n",
    "#step_1.a.solution()"
   ]
  },
  {
   "cell_type": "markdown",
   "id": "79c6cfe8",
   "metadata": {
    "papermill": {
     "duration": 0.016471,
     "end_time": "2021-08-19T20:19:17.689542",
     "exception": false,
     "start_time": "2021-08-19T20:19:17.673071",
     "status": "completed"
    },
    "tags": []
   },
   "source": [
    "### Part B\n",
    "\n",
    "Set `predictions_1` to the model's predictions for the validation data.  Recall that the validation features are stored in `X_valid`."
   ]
  },
  {
   "cell_type": "code",
   "execution_count": 5,
   "id": "0e3a3c76",
   "metadata": {
    "execution": {
     "iopub.execute_input": "2021-08-19T20:19:17.728412Z",
     "iopub.status.busy": "2021-08-19T20:19:17.727705Z",
     "iopub.status.idle": "2021-08-19T20:19:17.747382Z",
     "shell.execute_reply": "2021-08-19T20:19:17.747995Z",
     "shell.execute_reply.started": "2021-08-19T20:12:36.368321Z"
    },
    "papermill": {
     "duration": 0.04181,
     "end_time": "2021-08-19T20:19:17.748203",
     "exception": false,
     "start_time": "2021-08-19T20:19:17.706393",
     "status": "completed"
    },
    "tags": []
   },
   "outputs": [
    {
     "data": {
      "application/javascript": [
       "parent.postMessage({\"jupyterEvent\": \"custom.exercise_interaction\", \"data\": {\"outcomeType\": 1, \"valueTowardsCompletion\": 0.5, \"interactionType\": 1, \"questionType\": 2, \"questionId\": \"1.2_Model1B\", \"learnToolsVersion\": \"0.3.4\", \"failureMessage\": \"\", \"exceptionClass\": \"\", \"trace\": \"\"}}, \"*\")"
      ],
      "text/plain": [
       "<IPython.core.display.Javascript object>"
      ]
     },
     "metadata": {},
     "output_type": "display_data"
    },
    {
     "data": {
      "text/markdown": [
       "<span style=\"color:#33cc33\">Correct</span>"
      ],
      "text/plain": [
       "Correct"
      ]
     },
     "metadata": {},
     "output_type": "display_data"
    }
   ],
   "source": [
    "from sklearn.metrics import mean_absolute_error\n",
    "\n",
    "# Get predictions\n",
    "predictions_1 = my_model_1.predict(X_valid) # Your code here\n",
    "\n",
    "# Check your answer\n",
    "step_1.b.check()"
   ]
  },
  {
   "cell_type": "code",
   "execution_count": 6,
   "id": "881ca088",
   "metadata": {
    "execution": {
     "iopub.execute_input": "2021-08-19T20:19:17.789745Z",
     "iopub.status.busy": "2021-08-19T20:19:17.789039Z",
     "iopub.status.idle": "2021-08-19T20:19:17.791581Z",
     "shell.execute_reply": "2021-08-19T20:19:17.792061Z",
     "shell.execute_reply.started": "2021-08-19T20:12:43.927387Z"
    },
    "papermill": {
     "duration": 0.025138,
     "end_time": "2021-08-19T20:19:17.792234",
     "exception": false,
     "start_time": "2021-08-19T20:19:17.767096",
     "status": "completed"
    },
    "tags": []
   },
   "outputs": [],
   "source": [
    "# Lines below will give you a hint or solution code\n",
    "#step_1.b.hint()\n",
    "#step_1.b.solution()"
   ]
  },
  {
   "cell_type": "markdown",
   "id": "7f7e77d7",
   "metadata": {
    "papermill": {
     "duration": 0.017834,
     "end_time": "2021-08-19T20:19:17.828335",
     "exception": false,
     "start_time": "2021-08-19T20:19:17.810501",
     "status": "completed"
    },
    "tags": []
   },
   "source": [
    "### Part C\n",
    "\n",
    "Finally, use the `mean_absolute_error()` function to calculate the mean absolute error (MAE) corresponding to the predictions for the validation set.  Recall that the labels for the validation data are stored in `y_valid`."
   ]
  },
  {
   "cell_type": "code",
   "execution_count": 7,
   "id": "e92ce8a4",
   "metadata": {
    "execution": {
     "iopub.execute_input": "2021-08-19T20:19:17.871404Z",
     "iopub.status.busy": "2021-08-19T20:19:17.870396Z",
     "iopub.status.idle": "2021-08-19T20:19:17.878285Z",
     "shell.execute_reply": "2021-08-19T20:19:17.878752Z",
     "shell.execute_reply.started": "2021-08-19T20:13:03.529158Z"
    },
    "papermill": {
     "duration": 0.032578,
     "end_time": "2021-08-19T20:19:17.878948",
     "exception": false,
     "start_time": "2021-08-19T20:19:17.846370",
     "status": "completed"
    },
    "tags": []
   },
   "outputs": [
    {
     "name": "stdout",
     "output_type": "stream",
     "text": [
      "Mean Absolute Error: 17662.736729452055\n"
     ]
    },
    {
     "data": {
      "application/javascript": [
       "parent.postMessage({\"jupyterEvent\": \"custom.exercise_interaction\", \"data\": {\"outcomeType\": 1, \"valueTowardsCompletion\": 0.5, \"interactionType\": 1, \"questionType\": 2, \"questionId\": \"1.3_Model1C\", \"learnToolsVersion\": \"0.3.4\", \"failureMessage\": \"\", \"exceptionClass\": \"\", \"trace\": \"\"}}, \"*\")"
      ],
      "text/plain": [
       "<IPython.core.display.Javascript object>"
      ]
     },
     "metadata": {},
     "output_type": "display_data"
    },
    {
     "data": {
      "text/markdown": [
       "<span style=\"color:#33cc33\">Correct</span>"
      ],
      "text/plain": [
       "Correct"
      ]
     },
     "metadata": {},
     "output_type": "display_data"
    }
   ],
   "source": [
    "# Calculate MAE\n",
    "mae_1 = mean_absolute_error(predictions_1, y_valid)\n",
    "print(\"Mean Absolute Error:\" , mae_1)\n",
    "\n",
    "# Check your answer\n",
    "step_1.c.check()"
   ]
  },
  {
   "cell_type": "code",
   "execution_count": 8,
   "id": "4c0d5135",
   "metadata": {
    "execution": {
     "iopub.execute_input": "2021-08-19T20:19:17.921755Z",
     "iopub.status.busy": "2021-08-19T20:19:17.920929Z",
     "iopub.status.idle": "2021-08-19T20:19:17.924248Z",
     "shell.execute_reply": "2021-08-19T20:19:17.923714Z",
     "shell.execute_reply.started": "2021-08-19T20:12:50.478686Z"
    },
    "papermill": {
     "duration": 0.026133,
     "end_time": "2021-08-19T20:19:17.924382",
     "exception": false,
     "start_time": "2021-08-19T20:19:17.898249",
     "status": "completed"
    },
    "tags": []
   },
   "outputs": [],
   "source": [
    "# Lines below will give you a hint or solution code\n",
    "#step_1.c.hint()\n",
    "#step_1.c.solution()"
   ]
  },
  {
   "cell_type": "markdown",
   "id": "3db32142",
   "metadata": {
    "papermill": {
     "duration": 0.019126,
     "end_time": "2021-08-19T20:19:17.962794",
     "exception": false,
     "start_time": "2021-08-19T20:19:17.943668",
     "status": "completed"
    },
    "tags": []
   },
   "source": [
    "# Step 2: Improve the model\n",
    "\n",
    "Now that you've trained a default model as baseline, it's time to tinker with the parameters, to see if you can get better performance!\n",
    "- Begin by setting `my_model_2` to an XGBoost model, using the [XGBRegressor](https://xgboost.readthedocs.io/en/latest/python/python_api.html#xgboost.XGBRegressor) class.  Use what you learned in the previous tutorial to figure out how to change the default parameters (like `n_estimators` and `learning_rate`) to get better results.\n",
    "- Then, fit the model to the training data in `X_train` and `y_train`.\n",
    "- Set `predictions_2` to the model's predictions for the validation data.  Recall that the validation features are stored in `X_valid`.\n",
    "- Finally, use the `mean_absolute_error()` function to calculate the mean absolute error (MAE) corresponding to the predictions on the validation set.  Recall that the labels for the validation data are stored in `y_valid`.\n",
    "\n",
    "In order for this step to be marked correct, your model in `my_model_2` must attain lower MAE than the model in `my_model_1`. "
   ]
  },
  {
   "cell_type": "code",
   "execution_count": 9,
   "id": "fe41cc39",
   "metadata": {
    "execution": {
     "iopub.execute_input": "2021-08-19T20:19:18.004894Z",
     "iopub.status.busy": "2021-08-19T20:19:18.004265Z",
     "iopub.status.idle": "2021-08-19T20:19:25.477824Z",
     "shell.execute_reply": "2021-08-19T20:19:25.478377Z",
     "shell.execute_reply.started": "2021-08-19T20:17:54.926756Z"
    },
    "papermill": {
     "duration": 7.495931,
     "end_time": "2021-08-19T20:19:25.478592",
     "exception": false,
     "start_time": "2021-08-19T20:19:17.982661",
     "status": "completed"
    },
    "tags": []
   },
   "outputs": [
    {
     "name": "stdout",
     "output_type": "stream",
     "text": [
      "Mean Absolute Error: 16688.691513270547\n"
     ]
    },
    {
     "data": {
      "application/javascript": [
       "parent.postMessage({\"jupyterEvent\": \"custom.exercise_interaction\", \"data\": {\"outcomeType\": 1, \"valueTowardsCompletion\": 0.5, \"interactionType\": 1, \"questionType\": 2, \"questionId\": \"2_Model2\", \"learnToolsVersion\": \"0.3.4\", \"failureMessage\": \"\", \"exceptionClass\": \"\", \"trace\": \"\"}}, \"*\")"
      ],
      "text/plain": [
       "<IPython.core.display.Javascript object>"
      ]
     },
     "metadata": {},
     "output_type": "display_data"
    },
    {
     "data": {
      "text/markdown": [
       "<span style=\"color:#33cc33\">Correct</span>"
      ],
      "text/plain": [
       "Correct"
      ]
     },
     "metadata": {},
     "output_type": "display_data"
    }
   ],
   "source": [
    "# Define the model\n",
    "my_model_2 = XGBRegressor(n_estimators=1000, learning_rate=0.05)\n",
    "\n",
    "# Fit the model\n",
    "my_model_2.fit(X_train, y_train)\n",
    "\n",
    "# Get predictions\n",
    "predictions_2 = my_model_2.predict(X_valid)\n",
    "\n",
    "# Calculate MAE\n",
    "mae_2 = mean_absolute_error(predictions_2, y_valid)\n",
    "print(\"Mean Absolute Error:\" , mae_2)\n",
    "\n",
    "# Check your answer\n",
    "step_2.check()"
   ]
  },
  {
   "cell_type": "code",
   "execution_count": 10,
   "id": "d28477c2",
   "metadata": {
    "execution": {
     "iopub.execute_input": "2021-08-19T20:19:25.524159Z",
     "iopub.status.busy": "2021-08-19T20:19:25.523511Z",
     "iopub.status.idle": "2021-08-19T20:19:25.526624Z",
     "shell.execute_reply": "2021-08-19T20:19:25.527148Z",
     "shell.execute_reply.started": "2021-08-19T20:18:07.336157Z"
    },
    "papermill": {
     "duration": 0.026664,
     "end_time": "2021-08-19T20:19:25.527309",
     "exception": false,
     "start_time": "2021-08-19T20:19:25.500645",
     "status": "completed"
    },
    "tags": []
   },
   "outputs": [],
   "source": [
    "# Lines below will give you a hint or solution code\n",
    "#step_2.hint()\n",
    "#step_2.solution()"
   ]
  },
  {
   "cell_type": "markdown",
   "id": "92fd55bd",
   "metadata": {
    "papermill": {
     "duration": 0.019957,
     "end_time": "2021-08-19T20:19:25.567707",
     "exception": false,
     "start_time": "2021-08-19T20:19:25.547750",
     "status": "completed"
    },
    "tags": []
   },
   "source": [
    "# Step 3: Break the model\n",
    "\n",
    "In this step, you will create a model that performs worse than the original model in Step 1.  This will help you to develop your intuition for how to set parameters.  You might even find that you accidentally get better performance, which is ultimately a nice problem to have and a valuable learning experience!\n",
    "- Begin by setting `my_model_3` to an XGBoost model, using the [XGBRegressor](https://xgboost.readthedocs.io/en/latest/python/python_api.html#xgboost.XGBRegressor) class.  Use what you learned in the previous tutorial to figure out how to change the default parameters (like `n_estimators` and `learning_rate`) to design a model to get high MAE.\n",
    "- Then, fit the model to the training data in `X_train` and `y_train`.\n",
    "- Set `predictions_3` to the model's predictions for the validation data.  Recall that the validation features are stored in `X_valid`.\n",
    "- Finally, use the `mean_absolute_error()` function to calculate the mean absolute error (MAE) corresponding to the predictions on the validation set.  Recall that the labels for the validation data are stored in `y_valid`.\n",
    "\n",
    "In order for this step to be marked correct, your model in `my_model_3` must attain higher MAE than the model in `my_model_1`. "
   ]
  },
  {
   "cell_type": "code",
   "execution_count": 11,
   "id": "46e4051c",
   "metadata": {
    "execution": {
     "iopub.execute_input": "2021-08-19T20:19:25.612545Z",
     "iopub.status.busy": "2021-08-19T20:19:25.611955Z",
     "iopub.status.idle": "2021-08-19T20:19:25.652038Z",
     "shell.execute_reply": "2021-08-19T20:19:25.652596Z",
     "shell.execute_reply.started": "2021-08-19T20:18:29.301889Z"
    },
    "papermill": {
     "duration": 0.064638,
     "end_time": "2021-08-19T20:19:25.652804",
     "exception": false,
     "start_time": "2021-08-19T20:19:25.588166",
     "status": "completed"
    },
    "tags": []
   },
   "outputs": [
    {
     "name": "stdout",
     "output_type": "stream",
     "text": [
      "Mean Absolute Error: 127895.0828807256\n"
     ]
    },
    {
     "data": {
      "application/javascript": [
       "parent.postMessage({\"jupyterEvent\": \"custom.exercise_interaction\", \"data\": {\"outcomeType\": 1, \"valueTowardsCompletion\": 0.5, \"interactionType\": 1, \"questionType\": 2, \"questionId\": \"3_Model3\", \"learnToolsVersion\": \"0.3.4\", \"failureMessage\": \"\", \"exceptionClass\": \"\", \"trace\": \"\"}}, \"*\")"
      ],
      "text/plain": [
       "<IPython.core.display.Javascript object>"
      ]
     },
     "metadata": {},
     "output_type": "display_data"
    },
    {
     "data": {
      "text/markdown": [
       "<span style=\"color:#33cc33\">Correct</span>"
      ],
      "text/plain": [
       "Correct"
      ]
     },
     "metadata": {},
     "output_type": "display_data"
    }
   ],
   "source": [
    "# Define the model\n",
    "my_model_3 = XGBRegressor(n_estimators=1)\n",
    "\n",
    "# Fit the model\n",
    "my_model_3.fit(X_train, y_train)\n",
    "\n",
    "# Get predictions\n",
    "predictions_3 = my_model_3.predict(X_valid)\n",
    "\n",
    "# Calculate MAE\n",
    "mae_3 = mean_absolute_error(predictions_3, y_valid)\n",
    "print(\"Mean Absolute Error:\" , mae_3)\n",
    "\n",
    "# Check your answer\n",
    "step_3.check()"
   ]
  },
  {
   "cell_type": "code",
   "execution_count": 12,
   "id": "81d240c3",
   "metadata": {
    "execution": {
     "iopub.execute_input": "2021-08-19T20:19:25.701717Z",
     "iopub.status.busy": "2021-08-19T20:19:25.701111Z",
     "iopub.status.idle": "2021-08-19T20:19:25.703738Z",
     "shell.execute_reply": "2021-08-19T20:19:25.704188Z",
     "shell.execute_reply.started": "2021-08-19T20:18:38.788630Z"
    },
    "papermill": {
     "duration": 0.028338,
     "end_time": "2021-08-19T20:19:25.704344",
     "exception": false,
     "start_time": "2021-08-19T20:19:25.676006",
     "status": "completed"
    },
    "tags": []
   },
   "outputs": [],
   "source": [
    "# Lines below will give you a hint or solution code\n",
    "#step_3.hint()\n",
    "#step_3.solution()"
   ]
  },
  {
   "cell_type": "markdown",
   "id": "3981c5c7",
   "metadata": {
    "papermill": {
     "duration": 0.021093,
     "end_time": "2021-08-19T20:19:25.747330",
     "exception": false,
     "start_time": "2021-08-19T20:19:25.726237",
     "status": "completed"
    },
    "tags": []
   },
   "source": [
    "# Keep going\n",
    "\n",
    "Continue to learn about **[data leakage](https://www.kaggle.com/alexisbcook/data-leakage)**.  This is an important issue for a data scientist to understand, and it has the potential to ruin your models in subtle and dangerous ways!"
   ]
  },
  {
   "cell_type": "markdown",
   "id": "2bdabf48",
   "metadata": {
    "papermill": {
     "duration": 0.022633,
     "end_time": "2021-08-19T20:19:25.791598",
     "exception": false,
     "start_time": "2021-08-19T20:19:25.768965",
     "status": "completed"
    },
    "tags": []
   },
   "source": [
    "---\n",
    "\n",
    "\n",
    "\n",
    "\n",
    "*Have questions or comments? Visit the [Learn Discussion forum](https://www.kaggle.com/learn-forum/161289) to chat with other Learners.*"
   ]
  }
 ],
 "metadata": {
  "kernelspec": {
   "display_name": "Python 3",
   "language": "python",
   "name": "python3"
  },
  "language_info": {
   "codemirror_mode": {
    "name": "ipython",
    "version": 3
   },
   "file_extension": ".py",
   "mimetype": "text/x-python",
   "name": "python",
   "nbconvert_exporter": "python",
   "pygments_lexer": "ipython3",
   "version": "3.7.10"
  },
  "papermill": {
   "default_parameters": {},
   "duration": 20.75041,
   "end_time": "2021-08-19T20:19:27.316591",
   "environment_variables": {},
   "exception": null,
   "input_path": "__notebook__.ipynb",
   "output_path": "__notebook__.ipynb",
   "parameters": {},
   "start_time": "2021-08-19T20:19:06.566181",
   "version": "2.3.3"
  }
 },
 "nbformat": 4,
 "nbformat_minor": 5
}
